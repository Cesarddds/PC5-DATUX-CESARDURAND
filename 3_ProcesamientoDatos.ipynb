{
 "cells": [
  {
   "cell_type": "markdown",
   "id": "9a004934-be26-482d-b9c4-d4cfac05ce29",
   "metadata": {
    "id": "9a004934-be26-482d-b9c4-d4cfac05ce29"
   },
   "source": [
    "## Procesamiento Datos Pandas\n",
    "\n",
    "Para esta prueba deberá emplear los datos del archivo candidates.csv para lo cual deberá:\n",
    "\n",
    "1. Almanecar los datos en una base de datos. (Asegurar el almacenamiento con el tipo de dato apropiado)\n",
    "2. A partir de la lectura de los datos deberá generar un procesamiento reporte.\n",
    "    \n",
    "    (Cree el proceso que consideré más conveniente, realizarlo lo más complejo que le sea posible)\n",
    "    \n",
    "3. Realizar un código de envio de correos integrado en su solución.\n",
    "\n",
    "\n",
    "El archivo candidates.csv contiene 50k filas de datos sobre candidatos. Los campos que estamos usando son:\n",
    "- First Name\n",
    "- Last Name\n",
    "- Email\n",
    "- Country\n",
    "- Application Date\n",
    "- Yoe (years of experience)\n",
    "- Seniority\n",
    "- Technology\n",
    "- Code Challenge Score\n",
    "- Technical Interview\n"
   ]
  },
  {
   "cell_type": "code",
   "execution_count": 4,
   "id": "59cd2be4-533a-46cd-a117-0903c90a97e9",
   "metadata": {
    "id": "59cd2be4-533a-46cd-a117-0903c90a97e9",
    "outputId": "94e20d73-fa0f-4d47-d630-8110ef980fdb"
   },
   "outputs": [
    {
     "name": "stdout",
     "output_type": "stream",
     "text": [
      "Requirement already satisfied: pandas in c:\\users\\51966\\anaconda3\\lib\\site-packages (1.5.3)\n",
      "Requirement already satisfied: python-dateutil>=2.8.1 in c:\\users\\51966\\anaconda3\\lib\\site-packages (from pandas) (2.8.2)\n",
      "Requirement already satisfied: pytz>=2020.1 in c:\\users\\51966\\anaconda3\\lib\\site-packages (from pandas) (2022.7)\n",
      "Requirement already satisfied: numpy>=1.21.0 in c:\\users\\51966\\anaconda3\\lib\\site-packages (from pandas) (1.23.5)\n",
      "Requirement already satisfied: six>=1.5 in c:\\users\\51966\\anaconda3\\lib\\site-packages (from python-dateutil>=2.8.1->pandas) (1.16.0)\n"
     ]
    }
   ],
   "source": [
    "import pandas as pd\n",
    "!pip install pandas\n",
    "df_candidates = pd.read_csv('C:\\\\Users\\\\51966\\\\data\\\\candidates.csv')"
   ]
  },
  {
   "cell_type": "code",
   "execution_count": 5,
   "id": "5289e29f-ba7a-48e3-b884-9a7d56b4f71b",
   "metadata": {
    "id": "5289e29f-ba7a-48e3-b884-9a7d56b4f71b"
   },
   "outputs": [
    {
     "name": "stdout",
     "output_type": "stream",
     "text": [
      "      First Name;Last Name;Email;Application Date;Country;YOE;Seniority;Technology;Code Challenge Score;Technical Interview Score\n",
      "0      Bernadette;Langworth;leonard91@yahoo.com;2021-...                                                                         \n",
      "1      Camryn;Reynolds;zelda56@hotmail.com;2021-09-09...                                                                         \n",
      "2      Larue;Spinka;okey_schultz41@gmail.com;2020-04-...                                                                         \n",
      "3      Arch;Spinka;elvera_kulas@yahoo.com;2020-10-01;...                                                                         \n",
      "4      Larue;Altenwerth;minnie.gislason@gmail.com;202...                                                                         \n",
      "...                                                  ...                                                                         \n",
      "49995  Bethany;Shields;rocky_mitchell@hotmail.com;202...                                                                         \n",
      "49996  Era;Swaniawski;dolores.roob@hotmail.com;2020-0...                                                                         \n",
      "49997  Martin;Lakin;savanah.stracke@gmail.com;2018-12...                                                                         \n",
      "49998  Aliya;Abernathy;vivienne.fritsch@yahoo.com;202...                                                                         \n",
      "49999  Coleman;Wisozk;abigayle.crooks@yahoo.com;2022-...                                                                         \n",
      "\n",
      "[50000 rows x 1 columns]\n"
     ]
    }
   ],
   "source": [
    "print(df_candidates)"
   ]
  },
  {
   "cell_type": "code",
   "execution_count": 7,
   "id": "a3761f9f-9685-4c4f-bc03-f334cc78599f",
   "metadata": {
    "id": "a3761f9f-9685-4c4f-bc03-f334cc78599f"
   },
   "outputs": [
    {
     "ename": "DatabaseError",
     "evalue": "Execution failed on sql '\n    SELECT Country, AVG(Yoe) AS Average_Yoe\n    FROM candidates\n    GROUP BY Country\n    ORDER BY Average_Yoe DESC\n    LIMIT 10\n': no such column: Country",
     "output_type": "error",
     "traceback": [
      "\u001b[1;31m---------------------------------------------------------------------------\u001b[0m",
      "\u001b[1;31mOperationalError\u001b[0m                          Traceback (most recent call last)",
      "File \u001b[1;32m~\\anaconda3\\lib\\site-packages\\pandas\\io\\sql.py:2018\u001b[0m, in \u001b[0;36mSQLiteDatabase.execute\u001b[1;34m(self, *args, **kwargs)\u001b[0m\n\u001b[0;32m   2017\u001b[0m \u001b[38;5;28;01mtry\u001b[39;00m:\n\u001b[1;32m-> 2018\u001b[0m     cur\u001b[38;5;241m.\u001b[39mexecute(\u001b[38;5;241m*\u001b[39margs, \u001b[38;5;241m*\u001b[39m\u001b[38;5;241m*\u001b[39mkwargs)\n\u001b[0;32m   2019\u001b[0m     \u001b[38;5;28;01mreturn\u001b[39;00m cur\n",
      "\u001b[1;31mOperationalError\u001b[0m: no such column: Country",
      "\nThe above exception was the direct cause of the following exception:\n",
      "\u001b[1;31mDatabaseError\u001b[0m                             Traceback (most recent call last)",
      "Cell \u001b[1;32mIn[7], line 25\u001b[0m\n\u001b[0;32m     17\u001b[0m \u001b[38;5;66;03m# Ejemplo de procesamiento y generación de reporte\u001b[39;00m\n\u001b[0;32m     18\u001b[0m query \u001b[38;5;241m=\u001b[39m \u001b[38;5;124m'''\u001b[39m\n\u001b[0;32m     19\u001b[0m \u001b[38;5;124m    SELECT Country, AVG(Yoe) AS Average_Yoe\u001b[39m\n\u001b[0;32m     20\u001b[0m \u001b[38;5;124m    FROM candidates\u001b[39m\n\u001b[1;32m   (...)\u001b[0m\n\u001b[0;32m     23\u001b[0m \u001b[38;5;124m    LIMIT 10\u001b[39m\n\u001b[0;32m     24\u001b[0m \u001b[38;5;124m'''\u001b[39m\n\u001b[1;32m---> 25\u001b[0m df_report \u001b[38;5;241m=\u001b[39m \u001b[43mpd\u001b[49m\u001b[38;5;241;43m.\u001b[39;49m\u001b[43mread_sql_query\u001b[49m\u001b[43m(\u001b[49m\u001b[43mquery\u001b[49m\u001b[43m,\u001b[49m\u001b[43m \u001b[49m\u001b[43mconn\u001b[49m\u001b[43m)\u001b[49m\n\u001b[0;32m     27\u001b[0m \u001b[38;5;66;03m# Cierra la conexión con la base de datos\u001b[39;00m\n\u001b[0;32m     28\u001b[0m conn\u001b[38;5;241m.\u001b[39mclose()\n",
      "File \u001b[1;32m~\\anaconda3\\lib\\site-packages\\pandas\\io\\sql.py:397\u001b[0m, in \u001b[0;36mread_sql_query\u001b[1;34m(sql, con, index_col, coerce_float, params, parse_dates, chunksize, dtype)\u001b[0m\n\u001b[0;32m    339\u001b[0m \u001b[38;5;124;03m\"\"\"\u001b[39;00m\n\u001b[0;32m    340\u001b[0m \u001b[38;5;124;03mRead SQL query into a DataFrame.\u001b[39;00m\n\u001b[0;32m    341\u001b[0m \n\u001b[1;32m   (...)\u001b[0m\n\u001b[0;32m    394\u001b[0m \u001b[38;5;124;03mparameter will be converted to UTC.\u001b[39;00m\n\u001b[0;32m    395\u001b[0m \u001b[38;5;124;03m\"\"\"\u001b[39;00m\n\u001b[0;32m    396\u001b[0m pandas_sql \u001b[38;5;241m=\u001b[39m pandasSQL_builder(con)\n\u001b[1;32m--> 397\u001b[0m \u001b[38;5;28;01mreturn\u001b[39;00m \u001b[43mpandas_sql\u001b[49m\u001b[38;5;241;43m.\u001b[39;49m\u001b[43mread_query\u001b[49m\u001b[43m(\u001b[49m\n\u001b[0;32m    398\u001b[0m \u001b[43m    \u001b[49m\u001b[43msql\u001b[49m\u001b[43m,\u001b[49m\n\u001b[0;32m    399\u001b[0m \u001b[43m    \u001b[49m\u001b[43mindex_col\u001b[49m\u001b[38;5;241;43m=\u001b[39;49m\u001b[43mindex_col\u001b[49m\u001b[43m,\u001b[49m\n\u001b[0;32m    400\u001b[0m \u001b[43m    \u001b[49m\u001b[43mparams\u001b[49m\u001b[38;5;241;43m=\u001b[39;49m\u001b[43mparams\u001b[49m\u001b[43m,\u001b[49m\n\u001b[0;32m    401\u001b[0m \u001b[43m    \u001b[49m\u001b[43mcoerce_float\u001b[49m\u001b[38;5;241;43m=\u001b[39;49m\u001b[43mcoerce_float\u001b[49m\u001b[43m,\u001b[49m\n\u001b[0;32m    402\u001b[0m \u001b[43m    \u001b[49m\u001b[43mparse_dates\u001b[49m\u001b[38;5;241;43m=\u001b[39;49m\u001b[43mparse_dates\u001b[49m\u001b[43m,\u001b[49m\n\u001b[0;32m    403\u001b[0m \u001b[43m    \u001b[49m\u001b[43mchunksize\u001b[49m\u001b[38;5;241;43m=\u001b[39;49m\u001b[43mchunksize\u001b[49m\u001b[43m,\u001b[49m\n\u001b[0;32m    404\u001b[0m \u001b[43m    \u001b[49m\u001b[43mdtype\u001b[49m\u001b[38;5;241;43m=\u001b[39;49m\u001b[43mdtype\u001b[49m\u001b[43m,\u001b[49m\n\u001b[0;32m    405\u001b[0m \u001b[43m\u001b[49m\u001b[43m)\u001b[49m\n",
      "File \u001b[1;32m~\\anaconda3\\lib\\site-packages\\pandas\\io\\sql.py:2078\u001b[0m, in \u001b[0;36mSQLiteDatabase.read_query\u001b[1;34m(self, sql, index_col, coerce_float, params, parse_dates, chunksize, dtype)\u001b[0m\n\u001b[0;32m   2066\u001b[0m \u001b[38;5;28;01mdef\u001b[39;00m \u001b[38;5;21mread_query\u001b[39m(\n\u001b[0;32m   2067\u001b[0m     \u001b[38;5;28mself\u001b[39m,\n\u001b[0;32m   2068\u001b[0m     sql,\n\u001b[1;32m   (...)\u001b[0m\n\u001b[0;32m   2074\u001b[0m     dtype: DtypeArg \u001b[38;5;241m|\u001b[39m \u001b[38;5;28;01mNone\u001b[39;00m \u001b[38;5;241m=\u001b[39m \u001b[38;5;28;01mNone\u001b[39;00m,\n\u001b[0;32m   2075\u001b[0m ) \u001b[38;5;241m-\u001b[39m\u001b[38;5;241m>\u001b[39m DataFrame \u001b[38;5;241m|\u001b[39m Iterator[DataFrame]:\n\u001b[0;32m   2077\u001b[0m     args \u001b[38;5;241m=\u001b[39m _convert_params(sql, params)\n\u001b[1;32m-> 2078\u001b[0m     cursor \u001b[38;5;241m=\u001b[39m \u001b[38;5;28;43mself\u001b[39;49m\u001b[38;5;241;43m.\u001b[39;49m\u001b[43mexecute\u001b[49m\u001b[43m(\u001b[49m\u001b[38;5;241;43m*\u001b[39;49m\u001b[43margs\u001b[49m\u001b[43m)\u001b[49m\n\u001b[0;32m   2079\u001b[0m     columns \u001b[38;5;241m=\u001b[39m [col_desc[\u001b[38;5;241m0\u001b[39m] \u001b[38;5;28;01mfor\u001b[39;00m col_desc \u001b[38;5;129;01min\u001b[39;00m cursor\u001b[38;5;241m.\u001b[39mdescription]\n\u001b[0;32m   2081\u001b[0m     \u001b[38;5;28;01mif\u001b[39;00m chunksize \u001b[38;5;129;01mis\u001b[39;00m \u001b[38;5;129;01mnot\u001b[39;00m \u001b[38;5;28;01mNone\u001b[39;00m:\n",
      "File \u001b[1;32m~\\anaconda3\\lib\\site-packages\\pandas\\io\\sql.py:2030\u001b[0m, in \u001b[0;36mSQLiteDatabase.execute\u001b[1;34m(self, *args, **kwargs)\u001b[0m\n\u001b[0;32m   2027\u001b[0m     \u001b[38;5;28;01mraise\u001b[39;00m ex \u001b[38;5;28;01mfrom\u001b[39;00m \u001b[38;5;21;01minner_exc\u001b[39;00m\n\u001b[0;32m   2029\u001b[0m ex \u001b[38;5;241m=\u001b[39m DatabaseError(\u001b[38;5;124mf\u001b[39m\u001b[38;5;124m\"\u001b[39m\u001b[38;5;124mExecution failed on sql \u001b[39m\u001b[38;5;124m'\u001b[39m\u001b[38;5;132;01m{\u001b[39;00margs[\u001b[38;5;241m0\u001b[39m]\u001b[38;5;132;01m}\u001b[39;00m\u001b[38;5;124m'\u001b[39m\u001b[38;5;124m: \u001b[39m\u001b[38;5;132;01m{\u001b[39;00mexc\u001b[38;5;132;01m}\u001b[39;00m\u001b[38;5;124m\"\u001b[39m)\n\u001b[1;32m-> 2030\u001b[0m \u001b[38;5;28;01mraise\u001b[39;00m ex \u001b[38;5;28;01mfrom\u001b[39;00m \u001b[38;5;21;01mexc\u001b[39;00m\n",
      "\u001b[1;31mDatabaseError\u001b[0m: Execution failed on sql '\n    SELECT Country, AVG(Yoe) AS Average_Yoe\n    FROM candidates\n    GROUP BY Country\n    ORDER BY Average_Yoe DESC\n    LIMIT 10\n': no such column: Country"
     ]
    }
   ],
   "source": [
    "import pandas as pd\n",
    "import sqlite3\n",
    "\n",
    "# Lee el archivo CSV y carga los datos en un DataFrame\n",
    "df_candidates = pd.read_csv('C:\\\\Users\\\\51966\\\\data\\\\candidates.csv')\n",
    "# Crea una conexión con la base de datos SQLite\n",
    "conn = sqlite3.connect('candidates.db')\n",
    "\n",
    "# Almacena los datos en una tabla de la base de datos\n",
    "df_candidates.to_sql('candidates', conn, if_exists='replace', index=False)\n",
    "\n",
    "# Cierra la conexión con la base de datos\n",
    "conn.close()\n",
    "# Vuelve a abrir la conexión con la base de datos SQLite\n",
    "conn = sqlite3.connect('candidates.db')\n",
    "\n",
    "# Ejemplo de procesamiento y generación de reporte\n",
    "query = '''\n",
    "    SELECT Country, AVG(Yoe) AS Average_Yoe\n",
    "    FROM candidates\n",
    "    GROUP BY Country\n",
    "    ORDER BY Average_Yoe DESC\n",
    "    LIMIT 10\n",
    "'''\n",
    "df_report = pd.read_sql_query(query, conn)\n",
    "\n",
    "# Cierra la conexión con la base de datos\n",
    "conn.close()\n",
    "\n",
    "# Muestra el reporte\n",
    "print(df_report)\n",
    "import smtplib\n",
    "from email.mime.text import MIMEText\n",
    "\n",
    "def send_email(dataframe):\n",
    "    # Configuración del servidor SMTP y las credenciales\n",
    "    smtp_host = 'smtp.example.com'\n",
    "    smtp_port = 587\n",
    "    username = 'your_email@example.com'\n",
    "    password = 'your_password'\n",
    "\n",
    "    # Construcción del contenido del correo electrónico\n",
    "    subject = 'Reporte de candidatos'\n",
    "    body = dataframe.to_html(index=False)\n",
    "\n",
    "    # Creación del objeto MIMEText\n",
    "    msg = MIMEText(body, 'html')\n",
    "    msg['Subject'] = subject\n",
    "    msg['From'] = username\n",
    "    msg['To'] = 'recipient@example.com'\n",
    "\n",
    "    # Envío del correo electrónico\n",
    "    with smtplib.SMTP(smtp_host, smtp_port) as server:\n",
    "        server.starttls()\n",
    "        server.login(username, password)\n",
    "        server.send_message(msg)\n",
    "\n",
    "# Llamada a la función de envío de correo electrónico\n",
    "send_email(df_report)\n"
   ]
  },
  {
   "cell_type": "code",
   "execution_count": null,
   "id": "998095ad-cfc2-435a-be27-331774ec36f8",
   "metadata": {},
   "outputs": [],
   "source": []
  }
 ],
 "metadata": {
  "colab": {
   "provenance": []
  },
  "kernelspec": {
   "display_name": "Python 3 (ipykernel)",
   "language": "python",
   "name": "python3"
  },
  "language_info": {
   "codemirror_mode": {
    "name": "ipython",
    "version": 3
   },
   "file_extension": ".py",
   "mimetype": "text/x-python",
   "name": "python",
   "nbconvert_exporter": "python",
   "pygments_lexer": "ipython3",
   "version": "3.10.9"
  }
 },
 "nbformat": 4,
 "nbformat_minor": 5
}
