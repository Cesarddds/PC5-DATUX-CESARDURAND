{
 "cells": [
  {
   "cell_type": "markdown",
   "metadata": {
    "id": "tp1PuTXr8hQf"
   },
   "source": [
    "# Importar Pandas"
   ]
  },
  {
   "cell_type": "code",
   "execution_count": 4,
   "metadata": {
    "id": "7V5ec9ex8hQl"
   },
   "outputs": [],
   "source": [
    "#importa pandas\n",
    "import pandas as pd"
   ]
  },
  {
   "cell_type": "code",
   "execution_count": 5,
   "metadata": {},
   "outputs": [
    {
     "data": {
      "text/plain": [
       "'1.5.3'"
      ]
     },
     "execution_count": 5,
     "metadata": {},
     "output_type": "execute_result"
    }
   ],
   "source": [
    "pd.__version__"
   ]
  },
  {
   "cell_type": "code",
   "execution_count": 7,
   "metadata": {},
   "outputs": [
    {
     "name": "stdout",
     "output_type": "stream",
     "text": [
      "Requirement already satisfied: pandas in c:\\users\\51966\\anaconda3\\lib\\site-packages (1.5.3)\n",
      "Requirement already satisfied: numpy>=1.21.0 in c:\\users\\51966\\anaconda3\\lib\\site-packages (from pandas) (1.23.5)\n",
      "Requirement already satisfied: python-dateutil>=2.8.1 in c:\\users\\51966\\anaconda3\\lib\\site-packages (from pandas) (2.8.2)\n",
      "Requirement already satisfied: pytz>=2020.1 in c:\\users\\51966\\anaconda3\\lib\\site-packages (from pandas) (2022.7)\n",
      "Requirement already satisfied: six>=1.5 in c:\\users\\51966\\anaconda3\\lib\\site-packages (from python-dateutil>=2.8.1->pandas) (1.16.0)\n"
     ]
    }
   ],
   "source": [
    "!pip install pandas"
   ]
  },
  {
   "cell_type": "markdown",
   "metadata": {
    "id": "uQcJ3FUX8hQn"
   },
   "source": [
    "# Crear una Serie"
   ]
  },
  {
   "cell_type": "markdown",
   "metadata": {
    "id": "Yd-mDtrg8hQo"
   },
   "source": [
    "Explore series en python en el siguiente [link](https://pandas.pydata.org/pandas-docs/stable/user_guide/10min.html) en las primeras lineas del documento"
   ]
  },
  {
   "cell_type": "code",
   "execution_count": 8,
   "metadata": {
    "id": "oYHZImpb8hQo",
    "tags": []
   },
   "outputs": [
    {
     "name": "stdout",
     "output_type": "stream",
     "text": [
      "0    10\n",
      "1    20\n",
      "2    10\n",
      "dtype: int64\n"
     ]
    }
   ],
   "source": [
    "# Crea una Serie de los numeros 10, 20 and 10.\n",
    "numeros = [10, 20, 10]\n",
    "serie_numeros = pd.Series(numeros)\n",
    "print(serie_numeros)"
   ]
  },
  {
   "cell_type": "code",
   "execution_count": 9,
   "metadata": {
    "id": "itO9hqcO8hQp",
    "tags": []
   },
   "outputs": [
    {
     "name": "stdout",
     "output_type": "stream",
     "text": [
      "0     Rojo\n",
      "1    Verde\n",
      "2     Azul\n",
      "dtype: object\n"
     ]
    }
   ],
   "source": [
    "# Crea una Serie con tres objetos: 'rojo', 'verde', 'azul'\n",
    "objetos = ['Rojo','Verde','Azul']\n",
    "serie_objetos = pd.Series(objetos)\n",
    "print(serie_objetos)\n"
   ]
  },
  {
   "cell_type": "markdown",
   "metadata": {
    "id": "R_S7B7Ve8hQp"
   },
   "source": [
    "# Crear un Dataframe"
   ]
  },
  {
   "cell_type": "code",
   "execution_count": 12,
   "metadata": {
    "id": "rfhUQAoL8hQq",
    "tags": []
   },
   "outputs": [
    {
     "name": "stdout",
     "output_type": "stream",
     "text": [
      "Empty DataFrame\n",
      "Columns: []\n",
      "Index: []\n"
     ]
    }
   ],
   "source": [
    "# Crea un dataframe vacío llamado 'df'\n",
    "import pandas as pd\n",
    "\n",
    "df = pd.DataFrame()\n",
    "\n",
    "print(df)"
   ]
  },
  {
   "cell_type": "code",
   "execution_count": 13,
   "metadata": {
    "id": "Pe6CTVlO8hQr",
    "tags": []
   },
   "outputs": [
    {
     "name": "stdout",
     "output_type": "stream",
     "text": [
      "   Nueva Columna\n",
      "0             10\n",
      "1             20\n",
      "2             10\n"
     ]
    }
   ],
   "source": [
    "# Crea una nueva columna en el dataframe, y asignale la primera serie que has creado\n",
    "df['Nueva Columna'] = serie_numeros \n",
    "print(df)"
   ]
  },
  {
   "cell_type": "code",
   "execution_count": 14,
   "metadata": {
    "id": "wVHF6wkf8hQr",
    "tags": []
   },
   "outputs": [
    {
     "name": "stdout",
     "output_type": "stream",
     "text": [
      "   Nueva Columna objetos\n",
      "0             10    Rojo\n",
      "1             20   Verde\n",
      "2             10    Azul\n"
     ]
    }
   ],
   "source": [
    "# Crea otra columna en el dataframe y asignale la segunda Serie que has creado\n",
    "df['objetos'] = serie_objetos\n",
    "print(df)"
   ]
  },
  {
   "cell_type": "markdown",
   "metadata": {
    "id": "3mNSx4sA8hQs"
   },
   "source": [
    "# Leer un dataframe"
   ]
  },
  {
   "cell_type": "code",
   "execution_count": 24,
   "metadata": {
    "id": "khKyzh3t8hQs",
    "tags": []
   },
   "outputs": [
    {
     "name": "stdout",
     "output_type": "stream",
     "text": [
      "                                                   URL  \\\n",
      "0        http://marvel.wikia.com/Henry_Pym_(Earth-616)   \n",
      "1    http://marvel.wikia.com/Janet_van_Dyne_(Earth-...   \n",
      "2    http://marvel.wikia.com/Anthony_Stark_(Earth-616)   \n",
      "3    http://marvel.wikia.com/Robert_Bruce_Banner_(E...   \n",
      "4     http://marvel.wikia.com/Thor_Odinson_(Earth-616)   \n",
      "..                                                 ...   \n",
      "168   http://marvel.wikia.com/Eric_Brooks_(Earth-616)#   \n",
      "169  http://marvel.wikia.com/Adam_Brashear_(Earth-6...   \n",
      "170  http://marvel.wikia.com/Victor_Alvarez_(Earth-...   \n",
      "171     http://marvel.wikia.com/Ava_Ayala_(Earth-616)#   \n",
      "172         http://marvel.wikia.com/Kaluu_(Earth-616)#   \n",
      "\n",
      "                          nombre  n_apariciones actual  genero  fecha_inicio  \\\n",
      "0      Henry Jonathan \"Hank\" Pym           1269    YES    MALE          1963   \n",
      "1                 Janet van Dyne           1165    YES  FEMALE          1963   \n",
      "2    Anthony Edward \"Tony\" Stark           3068    YES    MALE          1963   \n",
      "3            Robert Bruce Banner           2089    YES    MALE          1963   \n",
      "4                   Thor Odinson           2402    YES    MALE          1963   \n",
      "..                           ...            ...    ...     ...           ...   \n",
      "168                  Eric Brooks            198    YES    MALE          2013   \n",
      "169                Adam Brashear             29    YES    MALE          2014   \n",
      "170               Victor Alvarez             45    YES    MALE          2014   \n",
      "171                    Ava Ayala             49    YES  FEMALE          2014   \n",
      "172                        Kaluu             35    YES    MALE          2015   \n",
      "\n",
      "                                                 Notes  \n",
      "0    Merged with Ultron in Rage of Ultron Vol. 1. A...  \n",
      "1    Dies in Secret Invasion V1:I8. Actually was se...  \n",
      "2    Death: \"Later while under the influence of Imm...  \n",
      "3    Dies in Ghosts of the Future arc. However \"he ...  \n",
      "4    Dies in Fear Itself brought back because that'...  \n",
      "..                                                 ...  \n",
      "168                                                NaN  \n",
      "169                                                NaN  \n",
      "170                                                NaN  \n",
      "171                                                NaN  \n",
      "172                                                NaN  \n",
      "\n",
      "[173 rows x 7 columns]\n"
     ]
    }
   ],
   "source": [
    "# Lee el archivo llamado 'avengers.csv\" localizado en la carpeta \"data\" y crea un DataFrame, llamado 'avengers'.\n",
    "# El archivo está localizado en \"data/avengers.csv\"\n",
    "import pandas as pd\n",
    "avengers = pd.read_csv('C:\\\\Users\\\\51966\\\\data\\\\avengers.csv')\n",
    "print(avengers)\n"
   ]
  },
  {
   "cell_type": "markdown",
   "metadata": {
    "id": "oPDPL4nj8hQt"
   },
   "source": [
    "# Inspeccionar un dataframe"
   ]
  },
  {
   "cell_type": "code",
   "execution_count": 26,
   "metadata": {
    "id": "C90ntYhk8hQt",
    "tags": []
   },
   "outputs": [
    {
     "name": "stdout",
     "output_type": "stream",
     "text": [
      "                                                 URL  \\\n",
      "0      http://marvel.wikia.com/Henry_Pym_(Earth-616)   \n",
      "1  http://marvel.wikia.com/Janet_van_Dyne_(Earth-...   \n",
      "2  http://marvel.wikia.com/Anthony_Stark_(Earth-616)   \n",
      "3  http://marvel.wikia.com/Robert_Bruce_Banner_(E...   \n",
      "4   http://marvel.wikia.com/Thor_Odinson_(Earth-616)   \n",
      "\n",
      "                        nombre  n_apariciones actual  genero  fecha_inicio  \\\n",
      "0    Henry Jonathan \"Hank\" Pym           1269    YES    MALE          1963   \n",
      "1               Janet van Dyne           1165    YES  FEMALE          1963   \n",
      "2  Anthony Edward \"Tony\" Stark           3068    YES    MALE          1963   \n",
      "3          Robert Bruce Banner           2089    YES    MALE          1963   \n",
      "4                 Thor Odinson           2402    YES    MALE          1963   \n",
      "\n",
      "                                               Notes  \n",
      "0  Merged with Ultron in Rage of Ultron Vol. 1. A...  \n",
      "1  Dies in Secret Invasion V1:I8. Actually was se...  \n",
      "2  Death: \"Later while under the influence of Imm...  \n",
      "3  Dies in Ghosts of the Future arc. However \"he ...  \n",
      "4  Dies in Fear Itself brought back because that'...  \n"
     ]
    }
   ],
   "source": [
    "# Muestra las primeras 5 filas del DataFrame.\n",
    "\n",
    "primeras5filas = avengers.head(5)\n",
    "print(primeras5filas)"
   ]
  },
  {
   "cell_type": "code",
   "execution_count": null,
   "metadata": {
    "id": "dGcQ3MUV8hQu",
    "tags": []
   },
   "outputs": [],
   "source": [
    "# Muestra las primeras 10 filas del DataFrame.\n",
    "primeras10filas = avengers.head(10)\n",
    "print(primeras10filas)"
   ]
  },
  {
   "cell_type": "code",
   "execution_count": 27,
   "metadata": {
    "id": "y9RxRXZ98hQu",
    "tags": []
   },
   "outputs": [
    {
     "name": "stdout",
     "output_type": "stream",
     "text": [
      "                                                   URL          nombre  \\\n",
      "163  http://marvel.wikia.com/Tony_Masters_(Earth-616)#    Tony Masters   \n",
      "164  http://marvel.wikia.com/Victor_Mancha_(Earth-6...   Victor Mancha   \n",
      "165  http://marvel.wikia.com/Monica_Chang_(Earth-616)#    Monica Chang   \n",
      "166  http://marvel.wikia.com/Doombot_(Avenger)_(Ear...             NaN   \n",
      "167        http://marvel.wikia.com/Alexis_(Earth-616)#          Alexis   \n",
      "168   http://marvel.wikia.com/Eric_Brooks_(Earth-616)#     Eric Brooks   \n",
      "169  http://marvel.wikia.com/Adam_Brashear_(Earth-6...   Adam Brashear   \n",
      "170  http://marvel.wikia.com/Victor_Alvarez_(Earth-...  Victor Alvarez   \n",
      "171     http://marvel.wikia.com/Ava_Ayala_(Earth-616)#       Ava Ayala   \n",
      "172         http://marvel.wikia.com/Kaluu_(Earth-616)#           Kaluu   \n",
      "\n",
      "     n_apariciones actual  genero  fecha_inicio  \\\n",
      "163            173     NO    MALE          2013   \n",
      "164             75    YES    MALE          2013   \n",
      "165             12    YES  FEMALE          2013   \n",
      "166             14    YES    MALE          2013   \n",
      "167             13    YES  FEMALE          2013   \n",
      "168            198    YES    MALE          2013   \n",
      "169             29    YES    MALE          2014   \n",
      "170             45    YES    MALE          2014   \n",
      "171             49    YES  FEMALE          2014   \n",
      "172             35    YES    MALE          2015   \n",
      "\n",
      "                                                 Notes  \n",
      "163                                                NaN  \n",
      "164  Died in Avengers_A.I._Vol_1_4. Returned in Ave...  \n",
      "165                                                NaN  \n",
      "166                                                NaN  \n",
      "167                                                NaN  \n",
      "168                                                NaN  \n",
      "169                                                NaN  \n",
      "170                                                NaN  \n",
      "171                                                NaN  \n",
      "172                                                NaN  \n"
     ]
    }
   ],
   "source": [
    "# Muestra las últimas 5 filas del DataFrame.\n",
    "ultimas5filas = avengers.tail(10)\n",
    "print(ultimas5filas)\n"
   ]
  },
  {
   "cell_type": "markdown",
   "metadata": {
    "id": "d3xon0_L8hQu"
   },
   "source": [
    "# Tamaño del DataFrame"
   ]
  },
  {
   "cell_type": "code",
   "execution_count": 28,
   "metadata": {
    "id": "DzT5qiVp8hQu",
    "tags": []
   },
   "outputs": [
    {
     "name": "stdout",
     "output_type": "stream",
     "text": [
      "Número de filas: 173\n",
      "Número de columnas: 7\n"
     ]
    }
   ],
   "source": [
    "# Muestra el tamaño del DataFrame\n",
    "tamaño = avengers.shape\n",
    "print(\"Número de filas:\", tamaño[0])\n",
    "print(\"Número de columnas:\", tamaño[1])"
   ]
  },
  {
   "cell_type": "markdown",
   "metadata": {
    "id": "K2B8JwSS8hQv"
   },
   "source": [
    "# Data types en un DataFrame"
   ]
  },
  {
   "cell_type": "code",
   "execution_count": 29,
   "metadata": {
    "id": "dlQE90uc8hQv",
    "tags": []
   },
   "outputs": [
    {
     "name": "stdout",
     "output_type": "stream",
     "text": [
      "URL              object\n",
      "nombre           object\n",
      "n_apariciones     int64\n",
      "actual           object\n",
      "genero           object\n",
      "fecha_inicio      int64\n",
      "Notes            object\n",
      "dtype: object\n"
     ]
    }
   ],
   "source": [
    "# Muestra los data types del dataframe\n",
    "data_types = avengers.dtypes\n",
    "print(data_types)\n"
   ]
  },
  {
   "cell_type": "markdown",
   "metadata": {
    "id": "TYLapFJL8hQv"
   },
   "source": [
    "# Editar el indice (index)"
   ]
  },
  {
   "cell_type": "code",
   "execution_count": 30,
   "metadata": {
    "id": "fUayCaep8hQv",
    "tags": []
   },
   "outputs": [
    {
     "name": "stdout",
     "output_type": "stream",
     "text": [
      "                                                            URL  \\\n",
      "fecha_inicio                                                      \n",
      "1963              http://marvel.wikia.com/Henry_Pym_(Earth-616)   \n",
      "1963          http://marvel.wikia.com/Janet_van_Dyne_(Earth-...   \n",
      "1963          http://marvel.wikia.com/Anthony_Stark_(Earth-616)   \n",
      "1963          http://marvel.wikia.com/Robert_Bruce_Banner_(E...   \n",
      "1963           http://marvel.wikia.com/Thor_Odinson_(Earth-616)   \n",
      "...                                                         ...   \n",
      "2013           http://marvel.wikia.com/Eric_Brooks_(Earth-616)#   \n",
      "2014          http://marvel.wikia.com/Adam_Brashear_(Earth-6...   \n",
      "2014          http://marvel.wikia.com/Victor_Alvarez_(Earth-...   \n",
      "2014             http://marvel.wikia.com/Ava_Ayala_(Earth-616)#   \n",
      "2015                 http://marvel.wikia.com/Kaluu_(Earth-616)#   \n",
      "\n",
      "                                   nombre  n_apariciones actual  genero  \\\n",
      "fecha_inicio                                                              \n",
      "1963            Henry Jonathan \"Hank\" Pym           1269    YES    MALE   \n",
      "1963                       Janet van Dyne           1165    YES  FEMALE   \n",
      "1963          Anthony Edward \"Tony\" Stark           3068    YES    MALE   \n",
      "1963                  Robert Bruce Banner           2089    YES    MALE   \n",
      "1963                         Thor Odinson           2402    YES    MALE   \n",
      "...                                   ...            ...    ...     ...   \n",
      "2013                          Eric Brooks            198    YES    MALE   \n",
      "2014                        Adam Brashear             29    YES    MALE   \n",
      "2014                       Victor Alvarez             45    YES    MALE   \n",
      "2014                            Ava Ayala             49    YES  FEMALE   \n",
      "2015                                Kaluu             35    YES    MALE   \n",
      "\n",
      "                                                          Notes  \n",
      "fecha_inicio                                                     \n",
      "1963          Merged with Ultron in Rage of Ultron Vol. 1. A...  \n",
      "1963          Dies in Secret Invasion V1:I8. Actually was se...  \n",
      "1963          Death: \"Later while under the influence of Imm...  \n",
      "1963          Dies in Ghosts of the Future arc. However \"he ...  \n",
      "1963          Dies in Fear Itself brought back because that'...  \n",
      "...                                                         ...  \n",
      "2013                                                        NaN  \n",
      "2014                                                        NaN  \n",
      "2014                                                        NaN  \n",
      "2014                                                        NaN  \n",
      "2015                                                        NaN  \n",
      "\n",
      "[173 rows x 6 columns]\n"
     ]
    }
   ],
   "source": [
    "# Cambia el indice a la columna \"fecha_inicio\".\n",
    "avengers = avengers.set_index('fecha_inicio')\n",
    "print(avengers)\n"
   ]
  },
  {
   "cell_type": "markdown",
   "metadata": {
    "id": "uZ5hP6oF8hQv"
   },
   "source": [
    "# Ordenar el indice"
   ]
  },
  {
   "cell_type": "code",
   "execution_count": 31,
   "metadata": {
    "id": "YwrBhJ388hQw",
    "tags": []
   },
   "outputs": [
    {
     "name": "stdout",
     "output_type": "stream",
     "text": [
      "                                                            URL  \\\n",
      "fecha_inicio                                                      \n",
      "2015                 http://marvel.wikia.com/Kaluu_(Earth-616)#   \n",
      "2015          http://marvel.wikia.com/Sam_Alexander_(Earth-6...   \n",
      "2014             http://marvel.wikia.com/Ava_Ayala_(Earth-616)#   \n",
      "2014          http://marvel.wikia.com/Victor_Alvarez_(Earth-...   \n",
      "2014          http://marvel.wikia.com/Adam_Brashear_(Earth-6...   \n",
      "...                                                         ...   \n",
      "1900          http://marvel.wikia.com/Emery_Schaub_(Earth-616)#   \n",
      "1900          http://marvel.wikia.com/James_Santini_(Earth-6...   \n",
      "1900          http://marvel.wikia.com/Elvin_Haliday_(Earth-6...   \n",
      "1900          http://marvel.wikia.com/William_Baker_(Earth-6...   \n",
      "1900           http://marvel.wikia.com/Julie_Power_(Earth-616)#   \n",
      "\n",
      "                      nombre  n_apariciones actual  genero  \\\n",
      "fecha_inicio                                                 \n",
      "2015                   Kaluu             35    YES    MALE   \n",
      "2015           Sam Alexander             78    YES    MALE   \n",
      "2014               Ava Ayala             49    YES  FEMALE   \n",
      "2014          Victor Alvarez             45    YES    MALE   \n",
      "2014           Adam Brashear             29    YES    MALE   \n",
      "...                      ...            ...    ...     ...   \n",
      "1900            Emery Schaub             26    YES    MALE   \n",
      "1900           James Santini             40    YES    MALE   \n",
      "1900           Elvin Haliday            158     NO    MALE   \n",
      "1900           William Baker            355     NO    MALE   \n",
      "1900             Julie Power            153    YES  FEMALE   \n",
      "\n",
      "                                                          Notes  \n",
      "fecha_inicio                                                     \n",
      "2015                                                        NaN  \n",
      "2015                                                        NaN  \n",
      "2014                                                        NaN  \n",
      "2014                                                        NaN  \n",
      "2014                                                        NaN  \n",
      "...                                                         ...  \n",
      "1900                                                        NaN  \n",
      "1900                                                        NaN  \n",
      "1900                                                        NaN  \n",
      "1900          Died in Identity_Disc_Vol_1_1. Later was revea...  \n",
      "1900                                                        NaN  \n",
      "\n",
      "[173 rows x 6 columns]\n"
     ]
    }
   ],
   "source": [
    "# Ordena el índice de forma descendiente\n",
    "avengers = avengers.sort_index(ascending=False)\n",
    "print(avengers)"
   ]
  },
  {
   "cell_type": "markdown",
   "metadata": {
    "id": "kx7ti3P48hQw"
   },
   "source": [
    "# Resetear el indice"
   ]
  },
  {
   "cell_type": "code",
   "execution_count": 32,
   "metadata": {
    "id": "KGKNsFiP8hQw",
    "tags": []
   },
   "outputs": [
    {
     "name": "stdout",
     "output_type": "stream",
     "text": [
      "     fecha_inicio                                                URL  \\\n",
      "0            2015         http://marvel.wikia.com/Kaluu_(Earth-616)#   \n",
      "1            2015  http://marvel.wikia.com/Sam_Alexander_(Earth-6...   \n",
      "2            2014     http://marvel.wikia.com/Ava_Ayala_(Earth-616)#   \n",
      "3            2014  http://marvel.wikia.com/Victor_Alvarez_(Earth-...   \n",
      "4            2014  http://marvel.wikia.com/Adam_Brashear_(Earth-6...   \n",
      "..            ...                                                ...   \n",
      "168          1900  http://marvel.wikia.com/Emery_Schaub_(Earth-616)#   \n",
      "169          1900  http://marvel.wikia.com/James_Santini_(Earth-6...   \n",
      "170          1900  http://marvel.wikia.com/Elvin_Haliday_(Earth-6...   \n",
      "171          1900  http://marvel.wikia.com/William_Baker_(Earth-6...   \n",
      "172          1900   http://marvel.wikia.com/Julie_Power_(Earth-616)#   \n",
      "\n",
      "             nombre  n_apariciones actual  genero  \\\n",
      "0             Kaluu             35    YES    MALE   \n",
      "1     Sam Alexander             78    YES    MALE   \n",
      "2         Ava Ayala             49    YES  FEMALE   \n",
      "3    Victor Alvarez             45    YES    MALE   \n",
      "4     Adam Brashear             29    YES    MALE   \n",
      "..              ...            ...    ...     ...   \n",
      "168    Emery Schaub             26    YES    MALE   \n",
      "169   James Santini             40    YES    MALE   \n",
      "170   Elvin Haliday            158     NO    MALE   \n",
      "171   William Baker            355     NO    MALE   \n",
      "172     Julie Power            153    YES  FEMALE   \n",
      "\n",
      "                                                 Notes  \n",
      "0                                                  NaN  \n",
      "1                                                  NaN  \n",
      "2                                                  NaN  \n",
      "3                                                  NaN  \n",
      "4                                                  NaN  \n",
      "..                                                 ...  \n",
      "168                                                NaN  \n",
      "169                                                NaN  \n",
      "170                                                NaN  \n",
      "171  Died in Identity_Disc_Vol_1_1. Later was revea...  \n",
      "172                                                NaN  \n",
      "\n",
      "[173 rows x 7 columns]\n"
     ]
    }
   ],
   "source": [
    "# Resetea el índice\n",
    "\n",
    "avengers = avengers.reset_index()\n",
    "print(avengers)"
   ]
  },
  {
   "cell_type": "code",
   "execution_count": null,
   "metadata": {},
   "outputs": [],
   "source": []
  }
 ],
 "metadata": {
  "colab": {
   "provenance": []
  },
  "kernelspec": {
   "display_name": "Python 3 (ipykernel)",
   "language": "python",
   "name": "python3"
  },
  "language_info": {
   "codemirror_mode": {
    "name": "ipython",
    "version": 3
   },
   "file_extension": ".py",
   "mimetype": "text/x-python",
   "name": "python",
   "nbconvert_exporter": "python",
   "pygments_lexer": "ipython3",
   "version": "3.10.9"
  }
 },
 "nbformat": 4,
 "nbformat_minor": 4
}
